{
 "cells": [
  {
   "cell_type": "code",
   "execution_count": null,
   "id": "ec34c04e",
   "metadata": {},
   "outputs": [],
   "source": [
    "import openai as ai"
   ]
  },
  {
   "cell_type": "code",
   "execution_count": null,
   "id": "c9423077",
   "metadata": {},
   "outputs": [],
   "source": [
    "def chat(question,chat_log = None) -> str:\n",
    "    if(chat_log == None):\n",
    "        chat_log = start_chat_log\n",
    "    prompt = f\"{chat_log}Human: {question}\\nAI:\"\n",
    "    response = completion.create(prompt = prompt, engine =  \"davinci\", temperature = 0.85,top_p=1, frequency_penalty=0, \n",
    "    presence_penalty=0.7, best_of=2,max_tokens=100,stop = \"\\nHuman: \")\n",
    "    return response.choices[0].text"
   ]
  },
  {
   "cell_type": "code",
   "execution_count": null,
   "id": "b954b4d8",
   "metadata": {},
   "outputs": [],
   "source": [
    "def modify_start_message(chat_log,question,answer) -> str:\n",
    "    if chat_log == None:\n",
    "        chat_log = start_chat_log\n",
    "    chat_log += f\"Human: {question}\\nAI: {answer}\\n\"\n",
    "    return chat_log"
   ]
  },
  {
   "cell_type": "code",
   "execution_count": null,
   "id": "66b1bcfa",
   "metadata": {},
   "outputs": [],
   "source": [
    "if __name__ == \"__main__\":\n",
    "    ai.api_key = \"\"\n",
    "\n",
    "    completion = ai.Completion()\n",
    "\n",
    "    start_chat_log = \"\"\"Human: Hello, I am Human.\n",
    "    AI: Hello, human I am openai gpt3.\n",
    "    Human: How are you?\n",
    "    AI: I am fine, thanks for asking. \n",
    "    \"\"\"\n",
    "\n",
    "    train = input(\"\\nDo you want to train the openai chatbot (True/False): \")\n",
    "    if(train == \"True\"):\n",
    "        print(\"\\n(To stop the training enter stop in the qestion)\\n\")\n",
    "        while(True):\n",
    "            question = input(\"Question: \")\n",
    "            if question == \"stop\":\n",
    "                break\n",
    "            answer = input(\"Answer: \")\n",
    "            start_chat_log = modify_start_message(start_chat_log,question,answer)\n",
    "            print(\"\\n\")\n",
    "\n",
    "    question = \"\"\n",
    "    print(\"\\nEnter the questions to openai (to quit type \\\"stop\\\")\")\n",
    "    while True:\n",
    "        question = input(\"Question: \")\n",
    "        if question == \"stop\":\n",
    "            break\n",
    "        print(\"AI: \",chat(question,start_chat_log))"
   ]
  },
  {
   "cell_type": "code",
   "execution_count": null,
   "id": "53a9e08d",
   "metadata": {},
   "outputs": [],
   "source": []
  }
 ],
 "metadata": {
  "kernelspec": {
   "display_name": "Python 3 (ipykernel)",
   "language": "python",
   "name": "python3"
  },
  "language_info": {
   "codemirror_mode": {
    "name": "ipython",
    "version": 3
   },
   "file_extension": ".py",
   "mimetype": "text/x-python",
   "name": "python",
   "nbconvert_exporter": "python",
   "pygments_lexer": "ipython3",
   "version": "3.9.7"
  }
 },
 "nbformat": 4,
 "nbformat_minor": 5
}
